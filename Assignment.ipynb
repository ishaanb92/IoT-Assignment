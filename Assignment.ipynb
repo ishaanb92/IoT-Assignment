{
 "cells": [
  {
   "cell_type": "markdown",
   "metadata": {},
   "source": [
    "# Internet of Things (2IMN25)\n",
    "### Machine Learning Assignment\n",
    "\n",
    "### Introduction\n",
    "\n",
    "*Add assignment description here*"
   ]
  },
  {
   "cell_type": "code",
   "execution_count": 52,
   "metadata": {},
   "outputs": [],
   "source": [
    "\"\"\" Import all libraries here \"\"\"\n",
    "import numpy as np\n",
    "from numpy import genfromtxt\n",
    "import os\n",
    "import math\n",
    "from datetime import datetime\n",
    "import pandas as pd\n"
   ]
  },
  {
   "cell_type": "markdown",
   "metadata": {},
   "source": [
    "## Reading the dataset\n",
    "\n",
    "In the code box below, please read in the data-sets into suitable data structures. The key task here would be to contruct the feature vectors which would be fed to the regression algorithm.\n",
    "\n",
    "*Hint : Be sure to check if there are any missing fields in the provided data*"
   ]
  },
  {
   "cell_type": "code",
   "execution_count": 53,
   "metadata": {},
   "outputs": [
    {
     "name": "stdout",
     "output_type": "stream",
     "text": [
      "(43844, 2)\n",
      "(43872,)\n",
      "Did not find matching timestamp in the weather data, continuing\n",
      "Did not find matching timestamp in the weather data, continuing\n",
      "Did not find matching timestamp in the weather data, continuing\n",
      "Did not find matching timestamp in the weather data, continuing\n",
      "Did not find matching timestamp in the weather data, continuing\n",
      "Did not find matching timestamp in the weather data, continuing\n",
      "Did not find matching timestamp in the weather data, continuing\n",
      "Did not find matching timestamp in the weather data, continuing\n",
      "Did not find matching timestamp in the weather data, continuing\n",
      "Did not find matching timestamp in the weather data, continuing\n",
      "Did not find matching timestamp in the weather data, continuing\n",
      "Did not find matching timestamp in the weather data, continuing\n",
      "Did not find matching timestamp in the weather data, continuing\n",
      "Did not find matching timestamp in the weather data, continuing\n",
      "Did not find matching timestamp in the weather data, continuing\n",
      "Did not find matching timestamp in the weather data, continuing\n",
      "Did not find matching timestamp in the weather data, continuing\n",
      "Did not find matching timestamp in the weather data, continuing\n",
      "Did not find matching timestamp in the weather data, continuing\n",
      "Did not find matching timestamp in the weather data, continuing\n",
      "Did not find matching timestamp in the weather data, continuing\n",
      "Did not find matching timestamp in the weather data, continuing\n",
      "Did not find matching timestamp in the weather data, continuing\n",
      "Did not find matching timestamp in the weather data, continuing\n",
      "Did not find matching timestamp in the weather data, continuing\n",
      "Did not find matching timestamp in the weather data, continuing\n",
      "Did not find matching timestamp in the weather data, continuing\n",
      "Did not find matching timestamp in the weather data, continuing\n",
      "Did not find matching timestamp in the weather data, continuing\n",
      "Did not find matching timestamp in the weather data, continuing\n",
      "Did not find matching timestamp in the weather data, continuing\n",
      "Did not find matching timestamp in the weather data, continuing\n",
      "Did not find matching timestamp in the weather data, continuing\n",
      "Did not find matching timestamp in the weather data, continuing\n",
      "Did not find matching timestamp in the weather data, continuing\n",
      "Did not find matching timestamp in the weather data, continuing\n",
      "Did not find matching timestamp in the weather data, continuing\n",
      "Did not find matching timestamp in the weather data, continuing\n",
      "Did not find matching timestamp in the weather data, continuing\n",
      "Did not find matching timestamp in the weather data, continuing\n",
      "Did not find matching timestamp in the weather data, continuing\n",
      "Did not find matching timestamp in the weather data, continuing\n",
      "Did not find matching timestamp in the weather data, continuing\n",
      "Did not find matching timestamp in the weather data, continuing\n",
      "Did not find matching timestamp in the weather data, continuing\n",
      "Did not find matching timestamp in the weather data, continuing\n"
     ]
    }
   ],
   "source": [
    "data_path = os.path.join(os.getcwd(),'data')\n",
    "\n",
    "\"\"\" Read in the weather\"\"\"\n",
    "weather_array = pd.read_csv(os.path.join(data_path,'Weather-Eindhoven.csv'),\n",
    "                         delimiter = ',',\n",
    "                         header=0,\n",
    "                         parse_dates = [0],\n",
    "                         usecols = [0,2,3,4,6,7,8])\n",
    "weather_array  = weather_array.as_matrix()\n",
    "\n",
    "\"\"\" Read in the rain data\"\"\"\n",
    "rain_array = pd.read_csv(os.path.join(data_path,'Rain-Best.csv'),\n",
    "                         delimiter = ',',\n",
    "                         header=0,\n",
    "                         parse_dates = [0])\n",
    "\n",
    "rain_array = rain_array.as_matrix()\n",
    "\n",
    "\"\"\" Synchronize the 2 data-sets by removing the extra data from the rainfall dataset\"\"\"\n",
    "remove_rows = []\n",
    "for element,idx in zip(rain_array[:,0],range(len(rain_array[:,0]))):\n",
    "    if element.minute%10 != 0:\n",
    "        remove_rows.append(idx)\n",
    "\n",
    "synced_rain_array = np.delete(rain_array,remove_rows,axis = 0)\n",
    "\n",
    "print(synced_rain_array.shape)\n",
    "print(weather_array[:,0].shape)\n",
    "\n",
    "\"\"\" Merge the weather and rain data when time-stamps are equal \"\"\"\n",
    "merged_array = []\n",
    "for rainElem in synced_rain_array:\n",
    "    try :\n",
    "        merged_row = []\n",
    "        valid_row = list(weather_array[:,0]).index(rainElem[0])\n",
    "        merged_row.append(weather_array[valid_row])\n",
    "        merged_row.append(rainElem[1])\n",
    "        merged_array.append(np.asarray(merged_row))\n",
    "    except ValueError:\n",
    "        print('Did not find matching timestamp in the weather data, continuing')\n",
    "        continue\n",
    "\n",
    "merged_array = np.asarray(merged_array)"
   ]
  },
  {
   "cell_type": "code",
   "execution_count": 59,
   "metadata": {},
   "outputs": [
    {
     "name": "stdout",
     "output_type": "stream",
     "text": [
      "(10525, 2)\n"
     ]
    }
   ],
   "source": [
    "\"\"\" Clean up the data by removing rows with missing data points\"\"\"\n",
    "missing_data_rows = []\n",
    "for row,idx in zip(merged_array,range(merged_array.shape[0])):\n",
    "    if math.isnan(row[0][2]):\n",
    "        missing_data_rows.append(idx)\n",
    "\n",
    "clean_data_array = np.delete(merged_array,missing_data_rows,axis=0)"
   ]
  },
  {
   "cell_type": "code",
   "execution_count": null,
   "metadata": {},
   "outputs": [],
   "source": []
  },
  {
   "cell_type": "code",
   "execution_count": null,
   "metadata": {},
   "outputs": [],
   "source": []
  },
  {
   "cell_type": "code",
   "execution_count": null,
   "metadata": {},
   "outputs": [],
   "source": []
  },
  {
   "cell_type": "code",
   "execution_count": null,
   "metadata": {},
   "outputs": [],
   "source": []
  },
  {
   "cell_type": "code",
   "execution_count": null,
   "metadata": {},
   "outputs": [],
   "source": []
  }
 ],
 "metadata": {
  "kernelspec": {
   "display_name": "Python 3",
   "language": "python",
   "name": "python3"
  },
  "language_info": {
   "codemirror_mode": {
    "name": "ipython",
    "version": 3
   },
   "file_extension": ".py",
   "mimetype": "text/x-python",
   "name": "python",
   "nbconvert_exporter": "python",
   "pygments_lexer": "ipython3",
   "version": "3.5.2"
  }
 },
 "nbformat": 4,
 "nbformat_minor": 2
}
